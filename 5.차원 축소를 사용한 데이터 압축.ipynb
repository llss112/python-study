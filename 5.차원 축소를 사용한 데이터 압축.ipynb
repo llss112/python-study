{
 "cells": [
  {
   "attachments": {},
   "cell_type": "markdown",
   "metadata": {},
   "source": [
    "5.1 주성분 분석을 통한 비지도 차원 축소"
   ]
  },
  {
   "cell_type": "code",
   "execution_count": 14,
   "metadata": {},
   "outputs": [],
   "source": [
    "import pandas as pd\n",
    "\n",
    "df_wine = pd.read_csv('https://archive.ics.uci.edu/ml/'\n",
    "                      'machine-learning-databases/wine/wine.data',\n",
    "                      header=None)"
   ]
  },
  {
   "cell_type": "code",
   "execution_count": 15,
   "metadata": {},
   "outputs": [
    {
     "data": {
      "text/plain": [
       "(178, 14)"
      ]
     },
     "execution_count": 15,
     "metadata": {},
     "output_type": "execute_result"
    }
   ],
   "source": [
    "df_wine.shape\n",
    "#  178개행과 14개의 특성값을 갖는 데이터 프레임임\n",
    "# # df_wine.columns = ['Class label', 'Alcohol', 'Malic acid', 'Ash',\n",
    "#                    'Alcalinity of ash', 'Magnesium', 'Total phenols',\n",
    "#                    'Flavanoids', 'Nonflavanoid phenols', 'Proanthocyanins',\n",
    "#                    'Color intensity', 'Hue', 'OD280/OD315 of diluted wines',\n",
    "#                    'Proline']"
   ]
  },
  {
   "cell_type": "code",
   "execution_count": 16,
   "metadata": {},
   "outputs": [],
   "source": [
    "from sklearn.model_selection import train_test_split\n",
    "X,y=df_wine.iloc[:,1:].values,df_wine.iloc[:,0].values\n",
    "# Trian test X,y에 행은 전체 0번째 칼럼은 빼고 X로 첫번쨰 칼럼만 y에 넣는다 (0번 칼럼은 클래스 라벨(정답)이기 때문에 0번칼럼은 제거함)\n",
    "X_train,X_test,y_train,y_test=train_test_split(X,y,test_size=0.3,stratify=y,random_state=0)\n",
    "# 7대 3으로 훈련셋을 나눈다.\n",
    "from sklearn.preprocessing import StandardScaler\n",
    "sc=StandardScaler()\n",
    "# 정규화 함수를 sc에 담고\n",
    "X_train_std=sc.fit_transform(X_train)\n",
    "X_test_std=sc.transform(X_test)\n",
    "# 데이터 셋을 정규화함 \n"
   ]
  },
  {
   "cell_type": "code",
   "execution_count": null,
   "metadata": {},
   "outputs": [],
   "source": []
  },
  {
   "cell_type": "code",
   "execution_count": 17,
   "metadata": {},
   "outputs": [
    {
     "name": "stdout",
     "output_type": "stream",
     "text": [
      "\n",
      " 고윳값\n",
      "[4.60875701 2.90204017 1.31306798 0.93788381 0.7853038  0.06834849\n",
      " 0.11104083 0.12866858 0.2066364  0.26340181 0.3525347  0.53181959\n",
      " 0.5036732 ]\n"
     ]
    }
   ],
   "source": [
    "import numpy as np\n",
    "cov_mat=np.cov(X_test_std.T)\n",
    "# 공분산 행렬을 구해서 cov_mat에 집어넣음\n",
    "eigen_vals,eigen_vecs=np.linalg.eig(cov_mat)\n",
    "# 공분산 행렬의 고유값, 고유벡터를 구한다. \n",
    "print(\"\\n 고윳값\\n%s\"% eigen_vals)\n",
    "# 고유값을 출력한다."
   ]
  },
  {
   "cell_type": "code",
   "execution_count": 18,
   "metadata": {},
   "outputs": [
    {
     "name": "stdout",
     "output_type": "stream",
     "text": [
      "(13,)\n",
      "(13, 13)\n"
     ]
    }
   ],
   "source": [
    "print(eigen_vals.shape)\n",
    "print(eigen_vecs.shape)"
   ]
  },
  {
   "cell_type": "code",
   "execution_count": 19,
   "metadata": {},
   "outputs": [
    {
     "data": {
      "image/png": "[encoded data removed]",
      "text/plain": [
       "<Figure size 640x480 with 1 Axes>"
      ]
     },
     "metadata": {},
     "output_type": "display_data"
    }
   ],
   "source": [
    "tot=sum(eigen_vals)\n",
    "# 고유값의 합을 구함\n",
    "var_exp=[(i/tot) for i in sorted(eigen_vals,reverse=True)]\n",
    "# 고유값들을 내림차순으로 정렬해서 i에 하나씩 넣어가면서 i/tot으로 리스트를 만든다. (왜? 내림차순으로 정렬했을때 누가 몇퍼센트로 분산을 먹고 있는지 보고 싶어서)\n",
    "cum_var_exp=np.cumsum(var_exp)\n",
    "# var_exp를 누적 더해가면서 배열을 만들고 cum_var_exp에 넣는다.\n",
    "import matplotlib.pyplot as plt\n",
    "plt.bar(range(1,14),var_exp,alpha=0.5,align=\"center\",label=\"Indivisual explained variance\")\n",
    "# 막대그래프를 그림, 좌표는 1부터 14까지의 리스트를 좌표로 위에서 구한 var_exp를 높이값으로 그래프를 그린다.막대는 가운데 정렬로 그린다. \n",
    "plt.step(range(1,14),cum_var_exp,where=\"mid\",label=\"Cumulative explained variance\")\n",
    "# 좌표는 1부터 14까지 cum_var_exp (var_exp의 원소들을 누적으로 더해간 배열)로 스텝 그래프를 그린다. \n",
    "plt.ylabel(\"Explained variance ratio\")\n",
    "plt.xlabel(\"Principal component index\")\n",
    "# x축 y축에 라벨링하기\n",
    "plt.legend(loc=\"best\")\n",
    "# 범레위치 설정\n",
    "plt.tight_layout()\n",
    "# 여백 줄이기\n",
    "plt.show()\n",
    "# 플롯 출력\n"
   ]
  },
  {
   "attachments": {},
   "cell_type": "markdown",
   "metadata": {},
   "source": [
    "그래프를 그려보니 첫번쨰 분산이 40%를 먹고 있다. "
   ]
  },
  {
   "attachments": {},
   "cell_type": "markdown",
   "metadata": {},
   "source": [
    "밑에 코드의 목표는 고윳값이 가장 큰 k(원래 차원에서 우리가 낮추고 싶은 차원)개를 선택해서 그에 해당하는 고유벡터로 투영행렬을 만듬\n",
    "그리고 그 투영행열로 데이터 셋을 k차원으로 변환함 (차원을 축소함)"
   ]
  },
  {
   "cell_type": "code",
   "execution_count": 20,
   "metadata": {},
   "outputs": [
    {
     "name": "stdout",
     "output_type": "stream",
     "text": [
      "투영 행열 W:\n",
      " [[-0.12999701  0.43638363]\n",
      " [ 0.2045815   0.24534465]\n",
      " [ 0.08570227  0.37095787]\n",
      " [ 0.31941304  0.06403434]\n",
      " [-0.10668011  0.33500347]\n",
      " [-0.41039418  0.09979891]\n",
      " [-0.39670979  0.04728298]\n",
      " [ 0.31182429 -0.1322099 ]\n",
      " [-0.27102652  0.09017136]\n",
      " [ 0.141004    0.43780094]\n",
      " [-0.27880867 -0.42008522]\n",
      " [-0.42829415  0.00338996]\n",
      " [-0.2072508   0.29913089]]\n"
     ]
    },
    {
     "data": {
      "text/plain": [
       "(13, 2)"
      ]
     },
     "execution_count": 20,
     "metadata": {},
     "output_type": "execute_result"
    }
   ],
   "source": [
    "eigen_pairs=[(np.abs(eigen_vals[i]),eigen_vecs[:,i]) for i in range(len(eigen_vals))]\n",
    "# 고유값의 갯수만큼의 리스트를 만들어서 하나씩 i에 넣으면서 리스트를 만드는데 eigen_pairs는 리스트다\n",
    "# 내용은 고유값의 i번째 값의 절대값과 고유벡터의 i번째 칼럼의 튜플 리스트를 만든다.(고유값,고유벡터 -> 당연히 여러개인 배열형태)가 여러개인 튜플을 만듬\n",
    "eigen_pairs.sort(key=lambda k:k[0],reverse=True)\n",
    "# 위의 튜플리스트를 내림차순 정렬하는데 0번 칼럼 그러니까 고유값 순서로 정렬함\n",
    "w=np.hstack((eigen_pairs[0][1][:,np.newaxis],eigen_pairs[1][1][:,np.newaxis]))\n",
    "# eigen_pairs는 리스트다. 그 리스트의 0번인덱스의 1번째 요소 즉 고유벡터를 칼럼 벡터형태로 만들고 1번 인덱스의 1번쨰 요소 즉 고유벡터를 \n",
    "# 또 칼럼 벡터 형태로 만들고(내림차순을 했으니 고유값이 가장큰거 두개의 고유벡터를 붙인것이다.) H-Stack을 했으니 옆으로 붙여소 w 즉 투영행열을 만들었다.\n",
    "print(\"투영 행열 W:\\n\",w)\n",
    "# 13X2 형태의 투영행렬을 만들었다. \n",
    "w.shape"
   ]
  },
  {
   "cell_type": "code",
   "execution_count": 21,
   "metadata": {},
   "outputs": [
    {
     "data": {
      "text/plain": [
       "[(4.608757010849945,\n",
       "  array([-0.12999701,  0.2045815 ,  0.08570227,  0.31941304, -0.10668011,\n",
       "         -0.41039418, -0.39670979,  0.31182429, -0.27102652,  0.141004  ,\n",
       "         -0.27880867, -0.42829415, -0.2072508 ])),\n",
       " (2.9020401692829187,\n",
       "  array([ 0.43638363,  0.24534465,  0.37095787,  0.06403434,  0.33500347,\n",
       "          0.09979891,  0.04728298, -0.1322099 ,  0.09017136,  0.43780094,\n",
       "         -0.42008522,  0.00338996,  0.29913089])),\n",
       " (1.3130679839088728,\n",
       "  array([ 0.19367348,  0.00433996, -0.60978775, -0.34334206, -0.21116171,\n",
       "         -0.07526224, -0.11770494, -0.46026392, -0.22273143,  0.14791596,\n",
       "         -0.32009054, -0.14936801,  0.02320993])),\n",
       " (0.9378838052382635,\n",
       "  array([ 0.22036267,  0.06310195,  0.16310913, -0.08120759, -0.76156417,\n",
       "          0.16075105,  0.06680583,  0.34472967, -0.22200513,  0.12904242,\n",
       "         -0.0511281 ,  0.28636405,  0.18595713])),\n",
       " (0.785303800394992,\n",
       "  array([ 0.17894938, -0.07174029,  0.02616964, -0.5093674 ,  0.31038181,\n",
       "         -0.32618407, -0.23469678,  0.32935334, -0.27437941, -0.0986753 ,\n",
       "          0.26887282, -0.00941859,  0.42308293])),\n",
       " (0.5318195913493001,\n",
       "  array([-0.0560387 ,  0.60062978,  0.18241334, -0.14508954,  0.03488506,\n",
       "         -0.24023843, -0.02155526, -0.23995727, -0.16601354, -0.41325701,\n",
       "         -0.13355909,  0.45433207, -0.20543813])),\n",
       " (0.5036731982559558,\n",
       "  array([ 0.00961114,  0.16157514, -0.51671084,  0.07660503,  0.1031209 ,\n",
       "         -0.07277388, -0.07234791,  0.48089707,  0.4916578 , -0.06018564,\n",
       "         -0.31084988,  0.30714069,  0.11047061])),\n",
       " (0.352534701499161,\n",
       "  array([ 0.41142924, -0.26711004,  0.03068976,  0.38848723, -0.19171817,\n",
       "         -0.59093558, -0.07829698, -0.27476311,  0.22870438, -0.087721  ,\n",
       "          0.18433791,  0.17977852,  0.11673331])),\n",
       " (0.26340180750447895,\n",
       "  array([-0.07831741,  0.59961814, -0.15536365,  0.02635841, -0.12534793,\n",
       "         -0.00661229, -0.09506035, -0.10957774,  0.22394366,  0.36571151,\n",
       "          0.59108496, -0.13288386,  0.14750265])),\n",
       " (0.20663640347979884,\n",
       "  array([-0.52070024, -0.00922827,  0.04654171,  0.19913957, -0.11245496,\n",
       "          0.02378011, -0.1025198 , -0.22527278, -0.02977095, -0.19856458,\n",
       "         -0.1925302 , -0.02729686,  0.73100373])),\n",
       " (0.12866858071291482,\n",
       "  array([ 0.14714004,  0.03665156, -0.32893459,  0.52416344,  0.26862493,\n",
       "          0.24668216, -0.048741  ,  0.03059694, -0.57889769,  0.03325773,\n",
       "          0.17887862,  0.29251808,  0.06280849])),\n",
       " (0.11104083162559361,\n",
       "  array([-0.44676158, -0.23243392,  0.04109614, -0.11737718,  0.07434768,\n",
       "         -0.27951371, -0.01570965, -0.05461818, -0.07898705,  0.61874525,\n",
       "         -0.02159831,  0.49168608, -0.11278525])),\n",
       " (0.06834849039085607,\n",
       "  array([ 0.05969017, -0.12489467,  0.13607872, -0.05677716, -0.02887926,\n",
       "          0.36319531, -0.85614665, -0.12296516,  0.17390222, -0.03093711,\n",
       "          0.03271096,  0.18262022, -0.11236432]))]"
      ]
     },
     "execution_count": 21,
     "metadata": {},
     "output_type": "execute_result"
    }
   ],
   "source": [
    "eigen_pairs"
   ]
  },
  {
   "cell_type": "code",
   "execution_count": 22,
   "metadata": {},
   "outputs": [
    {
     "data": {
      "text/plain": [
       "(124, 13)"
      ]
     },
     "execution_count": 22,
     "metadata": {},
     "output_type": "execute_result"
    }
   ],
   "source": [
    "X_train_std.shape\n",
    "# 정규화한 와인특성 데이터"
   ]
  },
  {
   "cell_type": "code",
   "execution_count": 23,
   "metadata": {},
   "outputs": [
    {
     "name": "stdout",
     "output_type": "stream",
     "text": [
      "[2.17653312 0.08979739]\n"
     ]
    }
   ],
   "source": [
    "X_train_std[0].dot(w).shape\n",
    "# 0번칼럼만 가져온거니까\n",
    "# (124X1) X (13X2) 행렬을 내적해서 1X2가 됨\n",
    "\n",
    "print(X_train_std[0].dot(w))"
   ]
  },
  {
   "cell_type": "code",
   "execution_count": 24,
   "metadata": {},
   "outputs": [
    {
     "data": {
      "image/png": "[encoded data removed]",
      "text/plain": [
       "<Figure size 640x480 with 1 Axes>"
      ]
     },
     "metadata": {},
     "output_type": "display_data"
    }
   ],
   "source": [
    "X_train_pca=X_train_std.dot(w)\n",
    "# (124X13) X (13X2) 이니까 124X2가 된다 \n",
    "colors=[\"r\",\"b\",\"g\"]\n",
    "markers=[\"s\",\"x\",\"o\"]\n",
    "# 컬러스에는 r b g를 넣고 마커에는 s x o를 넣고 \n",
    "for l,c,m in zip(np.unique(y_train),colors,markers):\n",
    "    plt.scatter(X_train_pca[y_train==l,0],X_train_pca[y_train==l,1],c=c,label=1,marker=m)\n",
    "# y트레인 값에서 중복값을 제외한 것(1 2 3)이 되겠지 컬러스 마커스를 하나씩 zip함수를 써서 튜플형태로 만들고 차례로 l c m에 넣어가면서 for 문을 실행한다.\n",
    "# 불린 인덱싱으로 y_train==1,2,3이 돌아가면서 들어가면서 받는 놈의 행 만 인덱싱 해서 0번 칼럼, 1번 칼럼 내용으로 색깔과 마커 를 돌려쓰면서 산점도를 그린다. \n",
    "plt.xlabel(\"PC 1\") \n",
    "plt.ylabel(\"PC 2\")\n",
    "# 레이블로는 PC1과 PC2를 붙임\n",
    "plt.legend(loc=\"lower left\")\n",
    "# 범례는 좌측 하단\n",
    "plt.tight_layout()\n",
    "# 여백 줄이기\n",
    "plt.show()\n",
    "# 플롯 그림"
   ]
  },
  {
   "attachments": {},
   "cell_type": "markdown",
   "metadata": {},
   "source": [
    "위의 그래프를 그려보면 X축 이 더 넓직 넓직하게 그려져 있다 사유는 분산값이 높은 놈 순으로 했으니 \n",
    "x값이 더 넓직넓직(분산이 크다)\n",
    "위 그래프에서 주의할점은 산점도를 그릴떄 행을 뽑기 해서 클래스 레이블(y값)을 사용하였는데 PCA는 레이블 값을 사용하지 않는 비지도 학습 기법이다. "
   ]
  },
  {
   "cell_type": "code",
   "execution_count": 25,
   "metadata": {},
   "outputs": [],
   "source": [
    "# 2장에서 만들었던 plot_decision_regions (결정 결계 시각화 함수) 함수를 정의하는 과정\n",
    "from matplotlib.colors import ListedColormap\n",
    "\n",
    "def plot_decision_regions(X, y, classifier, resolution=0.02):\n",
    "# plot_decision_regions함수를 정의하고 파라미터는 X,y,classifier,resolution인데 resolution은 0.02로 고정함\n",
    "    # 마커와 컬러맵을 준비합니다\n",
    "    markers = ('s', 'x', 'o', '^', 'v')\n",
    "    colors = ('red', 'blue', 'lightgreen', 'gray', 'cyan')\n",
    "    # 마커스와 컬러스라는 변수에 각각 글자를 넣고 \n",
    "    cmap = ListedColormap(colors[:len(np.unique(y))])\n",
    "    # 컬러맵에서 y값에서 중복값을 제거하고 그 갯수만큼을 컬러스에서 슬라이싱해서 색깔을 슬라이싱해서 넣는다.\n",
    "    x1_min, x1_max = X[:, 0].min() - 1, X[:, 0].max() + 1\n",
    "    # x1의 민맥스 값에는 X의 0번칼럼의 민값-1 맥스 +1을 넣어준다 \n",
    "    x2_min, x2_max = X[:, 1].min() - 1, X[:, 1].max() + 1\n",
    "    # X2_min X2_max에도 X의 1번칼럼의 민값-1, X의 1번 칼럼의 맥스값 +1 을 넣어준다.\n",
    "    xx1, xx2 = np.meshgrid(np.arange(x1_min, x1_max, resolution),\n",
    "                           np.arange(x2_min, x2_max, resolution))\n",
    "    # xx1,xx2에 x1_min부터 x1_max를 해상도 차이 만치의 리스트를 만들고 x2에대해서 똑같이 리스트를 만들어서 \n",
    "    # 좌표 매트릭스를 각각 xx1 xx2에 넣는다. \n",
    "    Z = classifier.predict(np.array([xx1.ravel(), xx2.ravel()]).T)\n",
    "    # Z라는변수에는 함수정의시 입력으로 받았던 분류기의 predict 메서드를 쓴다 어디에다가? \n",
    "    # 위에서 정의한XX1 XX2를 일자로 쭉펴고\n",
    "    Z = Z.reshape(xx1.shape)\n",
    "    # Z를 xx1모양으로 재배열한다. \n",
    "    plt.contourf(xx1, xx2, Z, alpha=0.4, cmap=cmap)\n",
    "    plt.xlim(xx1.min(), xx1.max())\n",
    "    plt.ylim(xx2.min(), xx2.max())\n",
    "\n",
    "    # 클래스별로 샘플을 그립니다\n",
    "    for idx, cl in enumerate(np.unique(y)):\n",
    "        plt.scatter(x=X[y == cl, 0], \n",
    "                    y=X[y == cl, 1],\n",
    "                    alpha=0.6, \n",
    "                    color=cmap(idx),\n",
    "                    edgecolor=None if idx==1 else 'black',\n",
    "                    marker=markers[idx], \n",
    "                    label=cl)"
   ]
  },
  {
   "cell_type": "code",
   "execution_count": 40,
   "metadata": {},
   "outputs": [
    {
     "name": "stdout",
     "output_type": "stream",
     "text": [
      "(124, 13)\n"
     ]
    },
    {
     "name": "stderr",
     "output_type": "stream",
     "text": [
      "c:\\ProgramData\\Anaconda3\\envs\\mcl1\\lib\\site-packages\\ipykernel_launcher.py:3: VisibleDeprecationWarning: Creating an ndarray from ragged nested sequences (which is a list-or-tuple of lists-or-tuples-or ndarrays with different lengths or shapes) is deprecated. If you meant to do this, you must specify 'dtype=object' when creating the ndarray.\n",
      "  This is separate from the ipykernel package so we can avoid doing imports until\n"
     ]
    },
    {
     "data": {
      "text/plain": [
       "array([array([ 0.71225893,  2.22048673, -0.13025864, ...,  1.06806189,\n",
       "               0.73691694, -0.89683324])                              ,\n",
       "       array([ 8.94437367e-01, -3.88117877e-01,  1.10073064e+00, -8.12017114e-01,\n",
       "               1.13201117e+00,  1.09807851e+00,  7.12041017e-01,  1.81013423e-01,\n",
       "               6.62804643e-02,  5.12859235e-01,  7.96297849e-01,  4.48295020e-01,\n",
       "               1.90593792e+00, -1.04879931e+00, -7.72993966e-01,  5.41190056e-01,\n",
       "              -2.40938809e-01,  3.49414498e-01, -7.07219221e-01, -3.08121293e-01,\n",
       "               6.76138376e-01, -1.03520519e+00, -9.06567274e-01,  2.24570604e+00,\n",
       "              -5.61881713e-01, -1.22874035e+00,  1.64744158e+00, -4.13776283e-01,\n",
       "               2.42768413e-01, -1.56343594e+00, -2.19746720e-01,  2.84881333e-01,\n",
       "               4.47191186e-01, -5.61674005e-01,  5.74658458e-01,  6.79643589e-02,\n",
       "               2.98063782e-01,  1.38631627e+00,  1.64471473e+00,  2.02159300e-01,\n",
       "              -4.90751501e-01, -9.13615453e-01, -2.58536553e+00,  6.48338887e-02,\n",
       "               5.28840485e-01,  6.82613258e-01, -8.91757306e-01, -6.11556861e-01,\n",
       "              -3.00662824e-01,  4.33945800e-01,  1.12655654e+00,  9.07143373e-01,\n",
       "              -8.05894728e-01, -1.09800044e+00, -1.06282627e+00, -3.91222574e-01,\n",
       "              -7.88907938e-01,  1.94380357e+00,  1.65372930e+00, -1.05679896e+00,\n",
       "               5.23820659e-01, -2.49817695e-01,  3.88651794e-01,  2.17397481e-01,\n",
       "              -2.91410081e-01, -7.08732894e-01,  5.78348747e-01,  9.51519815e-01,\n",
       "               2.16360142e+00, -1.48601568e-01, -6.90955277e-01, -1.45580389e+00,\n",
       "               2.16151323e+00, -8.48799925e-01,  1.02131052e+00, -1.28722643e+00,\n",
       "              -1.28343652e+00,  3.84696996e-01, -1.44959188e+00,  4.58609519e-01,\n",
       "              -5.77891105e-01, -5.41506338e-01,  9.18575715e-01, -9.83706260e-01,\n",
       "              -7.29919172e-01,  5.11096725e-01, -1.17077265e+00, -1.03368010e+00,\n",
       "               2.62997455e-02, -1.43379923e-01, -7.83124318e-01,  5.05790031e-01,\n",
       "               1.15138648e+00,  8.02308994e-01,  9.61331305e-01,  8.47430563e-01,\n",
       "              -1.01623415e+00, -1.12228929e+00,  5.11096725e-01, -3.06530065e-01,\n",
       "               2.36870643e+00, -4.71934321e-01, -1.52876516e+00, -1.83847591e-01,\n",
       "               8.58001680e-01, -5.84832323e-01, -5.03285694e-01, -1.02241438e+00,\n",
       "               1.34544663e+00,  4.47520768e-01,  8.19942800e-01, -1.30436143e+00,\n",
       "              -3.53951345e-02,  3.22190002e-01, -1.54876279e-01,  8.37934618e-01,\n",
       "               9.37875512e-01,  3.47902051e-01,  7.57957588e-01, -1.83505244e-02,\n",
       "               5.10480012e-01, -5.04327329e-01, -6.42163447e-01, -1.27923734e+00,\n",
       "               6.76138376e-01, -6.62394660e-01,  1.41112317e+00, -1.83075450e+00,\n",
       "              -1.44217858e+00, -3.22142221e-01,  8.70146909e-01, -5.33515511e-01,\n",
       "               9.35575917e-02, -1.14264140e+00, -7.17762786e-01,  4.47520768e-01,\n",
       "               6.82613258e-01, -6.44194830e-01,  2.86577595e-01,  2.16262651e-01,\n",
       "               8.86885861e-01,  4.05001732e-01,  1.73691115e+00, -9.03056562e-01,\n",
       "              -8.07205174e-01, -1.51045874e+00, -1.14264140e+00, -1.00234339e+00,\n",
       "               3.66201050e-01,  4.27572680e-01, -6.44194830e-01,  2.18793862e-01,\n",
       "              -9.27752744e-01,  1.24923791e+00,  1.74104193e-01, -1.00439572e+00,\n",
       "               9.06582597e-01,  3.47423093e-01, -3.16772167e-01,  6.60763777e-01,\n",
       "              -6.46617634e-01, -1.58547217e+00, -1.35771136e+00,  3.46055074e-01,\n",
       "              -1.03520519e+00,  1.90262608e+00, -1.15134441e+00, -1.35559200e+00,\n",
       "              -4.29704710e-01,  1.00374443e+00, -8.58521986e-01, -4.28680283e-01,\n",
       "              -1.14264140e+00, -7.74564157e-02,  1.06555062e+00,  1.06517412e+00,\n",
       "              -1.22184061e+00,  3.54361327e-01,  9.02671888e-01,  2.52769776e-01,\n",
       "               1.34302298e+00,  8.91777303e-01, -8.18039958e-01,  1.26257291e+00,\n",
       "              -1.83505244e-02,  3.60196248e-01, -7.88907938e-01, -4.03975371e-02,\n",
       "              -1.12228929e+00,  1.08874250e+00, -1.01825926e+00,  1.08486693e+00,\n",
       "              -1.78546050e+00, -1.49990297e+00, -7.21660038e-01,  9.28522366e-02,\n",
       "              -3.88117877e-01,  1.36184957e+00,  1.71275013e+00,  1.20315632e+00,\n",
       "              -2.03036972e-01, -7.69156184e-01, -8.91757306e-01, -1.37070733e-01,\n",
       "               8.51826759e-01, -1.55899047e+00, -1.86068037e+00, -1.01361537e+00,\n",
       "               5.66516178e-01, -4.65093095e-01,  8.39611699e-01,  5.96287194e-02,\n",
       "              -2.19746720e-01,  3.33673163e-01,  5.35474463e-01, -7.26715656e-01,\n",
       "               3.23885980e-02, -6.65052913e-01,  7.51003843e-01,  1.73266258e+00,\n",
       "               2.77134506e-01,  1.44097268e+00,  1.39941774e+00,  4.66584645e-01,\n",
       "              -1.98423048e+00,  2.05689815e+00,  1.09807851e+00,  9.57272342e-01,\n",
       "              -1.38688226e+00,  7.44117790e-01,  4.40794804e-03, -2.90758297e-01,\n",
       "               1.31416079e+00,  1.59113176e-02, -1.98633266e-01,  1.92969146e+00,\n",
       "               3.54676529e-01,  5.10480012e-01, -9.31198243e-01, -1.01623415e+00,\n",
       "              -1.38713912e+00,  8.41180026e-01, -1.32328605e+00,  1.08486693e+00,\n",
       "              -1.87604851e+00, -1.09583227e+00, -3.98972570e-01, -6.84442436e-01,\n",
       "              -7.13124352e-01, -6.89799221e-01, -2.40938809e-01,  4.47583333e+00,\n",
       "               2.84881333e-01,  2.01959862e-01, -3.96632354e-01,  2.77762977e+00,\n",
       "              -1.05486557e+00,  9.32179867e-01,  1.53621347e-02,  5.59870193e-01,\n",
       "               1.62315112e+00, -3.45353867e-01,  4.29281940e-01, -9.02187372e-01,\n",
       "               9.89720868e-01,  2.48051371e+00,  1.39868873e+00, -1.05679896e+00,\n",
       "               9.13577121e-01,  1.14842334e+00, -4.26640315e-01,  1.19871202e+00,\n",
       "               2.22862539e+00,  8.45856450e-01,  1.71587141e+00, -4.65982989e-01,\n",
       "               8.11047541e-01, -7.88907938e-01, -1.69931977e+00, -1.56370568e+00,\n",
       "               1.25378415e+00, -8.31853992e-01,  6.48446244e-01, -7.88992364e-01,\n",
       "              -1.25457433e+00, -7.21660038e-01, -4.30959748e-03, -1.24339808e+00,\n",
       "              -2.51763178e+00, -1.14264140e+00, -9.31198243e-01, -6.09635560e-01,\n",
       "              -3.34622098e-02, -1.05679896e+00, -3.06530065e-01, -2.07446755e-01,\n",
       "               1.06806189e+00, -2.01104308e-01, -1.11503143e+00, -7.45168582e-01,\n",
       "              -6.36149134e-01, -7.27101926e-01,  8.11047541e-01,  6.33995107e-01,\n",
       "              -5.28315842e-01,  2.53933081e-02, -2.31590703e-01, -5.23410677e-02,\n",
       "              -1.28366864e+00,  4.79239806e-01,  4.91588309e-01, -1.25947249e+00,\n",
       "              -1.54675371e+00,  2.79000678e-01,  1.99599557e+00,  5.96287194e-02,\n",
       "               2.78269345e-01, -9.34914430e-01, -3.34622098e-02,  1.91395076e+00,\n",
       "              -1.00131332e+00, -5.46414279e-01,  1.24923791e+00, -1.72242116e-01,\n",
       "              -4.54290422e-01, -7.33023353e-01, -7.04571550e-01, -3.54074873e-01,\n",
       "               5.10480012e-01, -9.31198243e-01,  6.75215977e-01,  1.06517412e+00,\n",
       "               1.81013423e-01,  2.18793862e-01, -4.87094962e-01, -1.19663842e+00,\n",
       "               3.18415155e-01, -1.23795999e+00,  1.45311791e+00, -5.50621115e-01,\n",
       "               1.68163002e-01, -1.26286841e+00,  1.98575300e+00,  7.72799638e-01,\n",
       "               9.76890848e-01, -7.26715656e-01,  1.09998239e+00,  2.33211027e-01,\n",
       "               3.88651794e-01,  1.87697354e+00,  9.53241582e-01,  3.96482968e-01,\n",
       "               1.76367054e-01, -1.30258641e-01,  5.96287194e-02, -7.17762786e-01,\n",
       "              -1.50415245e+00, -1.53427792e+00,  1.59717727e-02, -1.69609658e+00,\n",
       "               2.16262651e-01, -1.15134441e+00, -2.15535404e-01,  7.73755972e-02,\n",
       "               5.66516178e-01,  6.55323965e-01,  8.76914404e-01,  1.26189883e+00,\n",
       "               1.70117239e+00, -1.50415245e+00, -4.84687847e-01, -1.22184061e+00,\n",
       "              -6.62394660e-01,  1.48739087e+00, -1.64957848e+00, -1.90397366e+00,\n",
       "              -7.83124318e-01, -8.05894728e-01, -1.04668363e+00, -8.39010042e-01,\n",
       "              -2.40938809e-01, -8.60053090e-01,  1.91127568e+00,  1.01612786e+00,\n",
       "              -1.46940308e+00,  3.88253194e-01, -2.71003166e-01,  1.20394390e+00,\n",
       "               3.61708443e-01, -1.02898144e+00, -1.25761890e-01,  1.23691450e+00,\n",
       "               9.88822520e-01, -3.61165821e-01,  2.07124193e-01,  1.38505841e-01,\n",
       "               3.39289404e-01, -9.74278132e-01,  5.74658458e-01, -2.49817695e-01,\n",
       "               3.43357788e-01,  1.29972970e+00,  4.66434574e-02,  1.65723612e-01,\n",
       "               2.02025460e-01, -5.56532298e-02,  5.96287194e-02,  1.48773693e+00,\n",
       "              -1.09755386e+00, -1.35771136e+00,  1.33630498e+00, -3.06530065e-01,\n",
       "               1.78398745e+00, -1.60428447e+00, -1.44217858e+00,  2.61768436e-01,\n",
       "               1.42882745e+00,  1.44218175e+00,  2.05465708e-01, -2.70995562e-01,\n",
       "               8.47430563e-01,  8.54119356e-01,  5.74711475e-01, -5.61674005e-01,\n",
       "              -6.62394660e-01,  6.37272648e-02, -3.81346309e-01,  1.02553887e+00,\n",
       "               9.99339792e-01, -1.71678692e+00, -3.11142659e-01, -3.91377578e-01,\n",
       "              -5.41506338e-01, -7.74564157e-02,  1.13060640e+00,  1.92150609e-01,\n",
       "              -1.63444473e+00, -4.92935329e-01, -7.79454452e-01,  9.32179867e-01,\n",
       "               4.91588309e-01, -1.25947249e+00, -1.15810638e+00, -4.47987491e-01,\n",
       "              -2.42166757e-01, -3.91222574e-01, -1.28692400e+00, -1.17887358e+00,\n",
       "              -5.53352618e-01,  1.25378415e+00, -1.50326826e-03, -1.13960745e+00,\n",
       "               5.69827818e-01, -5.04157328e-01, -8.44588598e-01,  1.05232535e+00,\n",
       "              -5.76279521e-01, -9.88220864e-01, -1.14264140e+00,  1.35979041e-01,\n",
       "               1.26071794e+00,  1.30059620e+00, -1.30436143e+00,  8.45793388e-01,\n",
       "               4.28117354e-01, -2.00170285e-01,  1.02553887e+00,  7.07384464e-01,\n",
       "              -9.03056562e-01, -6.36149134e-01, -6.52496516e-01,  1.79855731e-01,\n",
       "               2.78269345e-01, -1.99207076e+00, -1.02419676e+00,  1.59717727e-02,\n",
       "              -3.06530065e-01, -8.64196333e-01, -2.18287887e-01, -1.15355666e+00,\n",
       "               3.53964856e-01,  4.42713195e-02, -7.30229956e-01, -1.06282627e+00,\n",
       "              -1.29292516e+00, -7.74564157e-02,  1.22241898e-01,  5.64902222e-01,\n",
       "              -7.26715656e-01, -4.59043463e-01, -5.88785220e-01,  1.02276788e+00,\n",
       "               1.01948712e-01,  8.14946953e-01,  1.99808610e-02, -4.99304303e-01,\n",
       "              -1.06282627e+00, -8.42073866e-01,  5.62849954e-01,  1.09807851e+00,\n",
       "               9.18035330e-01, -7.26715656e-01,  6.59388124e-01, -2.10146163e-02,\n",
       "              -3.36052303e-01,  1.05440106e+00,  4.00063065e-01, -4.05102163e-01,\n",
       "               1.02309445e+00, -9.29559351e-02,  5.10480012e-01,  4.91704802e-01,\n",
       "              -1.01623415e+00, -8.47630207e-01, -1.63444473e+00, -1.35717792e+00,\n",
       "              -3.79629925e-02, -7.88992364e-01, -1.91840476e+00, -4.75802920e-01,\n",
       "              -9.51637479e-01,  1.30533692e+00, -6.89799221e-01, -3.91222574e-01,\n",
       "               9.18575715e-01, -1.53668034e+00, -1.25961883e+00, -6.44194830e-01,\n",
       "              -8.48799925e-01,  1.32214420e+00, -1.37781444e+00, -8.93796926e-01,\n",
       "               3.07866646e-01, -1.25526821e+00,  9.20460826e-01, -1.43585333e+00,\n",
       "              -2.40938809e-01, -8.60053090e-01, -5.28315842e-01, -4.16023076e-01,\n",
       "               1.59717727e-02,  3.88253194e-01, -1.61416198e+00, -1.09582273e-01,\n",
       "               6.21468175e-01, -5.86438623e-01, -5.26554455e-01, -8.67074788e-01,\n",
       "              -1.80888038e+00, -3.91222574e-01, -7.88907938e-01, -1.42283273e+00,\n",
       "              -6.90682160e-01, -6.44194830e-01, -4.92935329e-01, -1.11842198e+00,\n",
       "               3.88651794e-01,  2.17397481e-01, -5.92585051e-01, -1.15810638e+00,\n",
       "              -2.34167441e-01, -2.55493449e+00, -6.91790102e-01, -1.48601568e-01,\n",
       "              -1.54245142e-01,  1.03867332e-01, -8.91757306e-01, -4.08205663e-01,\n",
       "              -7.58268982e-01,  1.43041393e+00,  4.91588309e-01, -1.37749382e-01,\n",
       "               7.36549387e-01,  6.38218361e-01,  6.53098172e-01, -1.38309542e+00,\n",
       "               1.20315632e+00,  6.10160203e-01,  9.47463089e-01, -1.63444473e+00,\n",
       "               3.23885980e-02,  4.40794804e-03,  2.62997455e-02,  1.06883216e+00,\n",
       "               2.77134506e-01, -7.45168582e-01,  1.67814252e-01, -4.28680283e-01,\n",
       "               6.60763777e-01, -6.46617634e-01, -1.04876203e+00, -2.19838016e-01,\n",
       "               2.40907571e+00, -3.74313797e-01, -1.01249463e+00, -4.26640315e-01,\n",
       "               9.82245580e-01, -1.35166890e+00, -2.43335545e+00, -7.21677154e-01,\n",
       "              -6.89799221e-01,  5.10480012e-01, -1.00234339e+00,  2.19825559e-01,\n",
       "               1.03867332e-01,  1.25378415e+00,  6.25496258e-01, -1.35146215e+00,\n",
       "               3.42335020e+00,  3.61708443e-01, -1.06893322e+00, -1.25761890e-01,\n",
       "               3.90187103e-01,  1.17533605e+00,  3.60196248e-01, -2.19746720e-01,\n",
       "              -1.27645724e+00, -1.53427792e+00,  1.33630498e+00, -1.50969132e+00,\n",
       "              -2.07446755e-01, -8.34286370e-01, -4.46432944e-01, -4.75802920e-01,\n",
       "              -1.06094454e+00, -6.36149134e-01, -2.79469462e-01,  9.01217799e-01,\n",
       "              -6.46617634e-01, -8.86122599e-01, -3.66976811e-01,  5.11096725e-01,\n",
       "              -1.37070733e-01, -1.11842198e+00,  1.70217797e+00, -5.18588425e-01,\n",
       "              -7.98490388e-01, -1.86488036e-01,  5.44137539e-01,  5.62548863e-02,\n",
       "               5.96287194e-02,  3.49414498e-01, -1.66679189e+00, -8.28011701e-01,\n",
       "              -1.05679896e+00, -1.37412385e+00,  1.31520770e-01, -9.70168388e-01,\n",
       "              -1.73080050e+00, -6.90927899e-01, -8.54475645e-01, -1.07234204e+00,\n",
       "              -3.91377578e-01, -1.14264140e+00,  1.35979041e-01, -4.46996125e-01,\n",
       "              -9.55531990e-01,  2.16151323e+00, -2.08585304e+00, -7.70980264e-01,\n",
       "               1.33982592e+00, -1.37002310e+00, -2.29945801e-01, -8.05894728e-01,\n",
       "              -1.20918687e+00, -3.82322647e+00, -2.76570605e+00, -7.88907938e-01,\n",
       "              -5.60843729e-01, -1.46561315e+00, -7.26715656e-01, -2.06890711e+00,\n",
       "              -1.33027668e+00,  4.33945800e-01, -1.15355666e+00, -7.21660038e-01,\n",
       "               2.99321134e-01, -6.10490728e-01,  1.69757392e+00, -1.29292516e+00,\n",
       "               7.76285411e-01,  4.47520768e-01,  6.04139234e-01, -2.31590703e-01,\n",
       "              -4.75989396e-01, -2.07446755e-01,  6.15121824e-01,  2.31828578e-01,\n",
       "               3.84696996e-01, -2.22923724e-01, -6.44701936e-01,  5.03887351e-01,\n",
       "              -6.01619844e-01, -2.90891872e-01,  2.52353446e-01,  3.00052392e-01,\n",
       "              -8.91757306e-01, -3.06530065e-01, -4.91332056e-01,  6.15121824e-01,\n",
       "               1.45847175e+00,  7.99580883e-01])                                 ],\n",
       "      dtype=object)"
      ]
     },
     "execution_count": 40,
     "metadata": {},
     "output_type": "execute_result"
    }
   ],
   "source": [
    "print(X_train_std.shape)\n",
    "X_train_std.ravel().shape\n",
    "np.array([X_train_std.ravel(),X_test_std.ravel()]).T.shape"
   ]
  },
  {
   "cell_type": "code",
   "execution_count": null,
   "metadata": {},
   "outputs": [],
   "source": [
    "from sklearn.linear_model import LogisticRegression\n",
    "\n",
    "pca = PCA(n_components=2)\n",
    "X_train_pca = pca.fit_transform(X_train_std)\n",
    "X_test_pca = pca.transform(X_test_std)\n",
    "\n",
    "lr = LogisticRegression(random_state=1)\n",
    "lr = lr.fit(X_train_pca, y_train)"
   ]
  },
  {
   "cell_type": "code",
   "execution_count": null,
   "metadata": {},
   "outputs": [
    {
     "data": {
      "image/png": "[encoded data removed]",
      "text/plain": [
       "<Figure size 640x480 with 1 Axes>"
      ]
     },
     "metadata": {},
     "output_type": "display_data"
    }
   ],
   "source": [
    "plot_decision_regions(X_train_pca, y_train, classifier=lr)\n",
    "plt.xlabel('PC 1')\n",
    "plt.ylabel('PC 2')\n",
    "plt.legend(loc='lower left')\n",
    "plt.tight_layout()\n",
    "# plt.savefig('images/05_04.png', dpi=300)\n",
    "plt.show()"
   ]
  },
  {
   "cell_type": "code",
   "execution_count": null,
   "metadata": {},
   "outputs": [
    {
     "data": {
      "image/png": "[encoded data removed]",
      "text/plain": [
       "<Figure size 640x480 with 1 Axes>"
      ]
     },
     "metadata": {},
     "output_type": "display_data"
    }
   ],
   "source": [
    "plot_decision_regions(X_test_pca, y_test, classifier=lr)\n",
    "plt.xlabel('PC 1')\n",
    "plt.ylabel('PC 2')\n",
    "plt.legend(loc='lower left')\n",
    "plt.tight_layout()\n",
    "# plt.savefig('images/05_05.png', dpi=300)\n",
    "plt.show()"
   ]
  },
  {
   "cell_type": "code",
   "execution_count": null,
   "metadata": {},
   "outputs": [
    {
     "data": {
      "text/plain": [
       "array([0.36951469, 0.18434927, 0.11815159, 0.07334252, 0.06422108,\n",
       "       0.05051724, 0.03954654, 0.02643918, 0.02389319, 0.01629614,\n",
       "       0.01380021, 0.01172226, 0.00820609])"
      ]
     },
     "execution_count": 76,
     "metadata": {},
     "output_type": "execute_result"
    }
   ],
   "source": [
    "pca = PCA(n_components=None)\n",
    "X_train_pca = pca.fit_transform(X_train_std)\n",
    "pca.explained_variance_ratio_"
   ]
  },
  {
   "cell_type": "code",
   "execution_count": null,
   "metadata": {},
   "outputs": [
    {
     "name": "stdout",
     "output_type": "stream",
     "text": [
      "주성분 개수: 10\n",
      "설명된 분산 비율: 0.9662714406558742\n"
     ]
    }
   ],
   "source": [
    "pca = PCA(n_components=0.95)\n",
    "pca.fit(X_train_std)\n",
    "print('주성분 개수:', pca.n_components_)\n",
    "print('설명된 분산 비율:', np.sum(pca.explained_variance_ratio_))"
   ]
  },
  {
   "cell_type": "code",
   "execution_count": null,
   "metadata": {},
   "outputs": [
    {
     "name": "stdout",
     "output_type": "stream",
     "text": [
      "주성분 개수: 9\n",
      "설명된 분산 비율: 0.9499753029186232\n"
     ]
    }
   ],
   "source": [
    "pca = PCA(n_components='mle')\n",
    "pca.fit(X_train_std)\n",
    "print('주성분 개수:', pca.n_components_)\n",
    "print('설명된 분산 비율:', np.sum(pca.explained_variance_ratio_))"
   ]
  },
  {
   "cell_type": "code",
   "execution_count": null,
   "metadata": {},
   "outputs": [
    {
     "name": "stdout",
     "output_type": "stream",
     "text": [
      "주성분 개수: 9\n",
      "설명된 분산 비율: 0.9478392700446654\n"
     ]
    }
   ],
   "source": [
    "from sklearn.decomposition import IncrementalPCA\n",
    "\n",
    "ipca = IncrementalPCA(n_components=9)\n",
    "for batch in range(len(X_train_std)//25+1):\n",
    "    X_batch = X_train_std[batch*25:(batch+1)*25]\n",
    "    ipca.partial_fit(X_batch)\n",
    "\n",
    "print('주성분 개수:', ipca.n_components_)\n",
    "print('설명된 분산 비율:', np.sum(ipca.explained_variance_ratio_))"
   ]
  }
 ],
 "metadata": {
  "kernelspec": {
   "display_name": "mcl1",
   "language": "python",
   "name": "python3"
  },
  "language_info": {
   "codemirror_mode": {
    "name": "ipython",
    "version": 3
   },
   "file_extension": ".py",
   "mimetype": "text/x-python",
   "name": "python",
   "nbconvert_exporter": "python",
   "pygments_lexer": "ipython3",
   "version": "3.7.15"
  },
  "orig_nbformat": 4,
  "vscode": {
   "interpreter": {
    "hash": "2ec59e29fec5080470d2310942de96b5c619562ef5a68f8c9aba2f9b59d5cdbe"
   }
  }
 },
 "nbformat": 4,
 "nbformat_minor": 2
}
